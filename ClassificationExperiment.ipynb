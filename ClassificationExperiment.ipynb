{
 "cells": [
  {
   "cell_type": "code",
   "execution_count": 46,
   "metadata": {},
   "outputs": [],
   "source": [
    "import sklearn\n",
    "import numpy as np\n",
    "import matplotlib.pyplot as plt\n",
    "from sklearn.datasets import load_svmlight_file\n",
    "from sklearn.model_selection import train_test_split\n",
    "from scipy.linalg.misc import norm\n",
    "from numpy import *\n",
    "\n",
    "#load data\n",
    "def get_data(path):\n",
    "    data = load_svmlight_file(path)\n",
    "    return data[0], data[1]\n",
    "#loss function\n",
    "def compute_loss(X, y, w, C):\n",
    "    loss = (np.linalg.norm(w,2)**2)/2 + C * np.mean(np.maximum(1 - y * X.dot(w.T), 0))\n",
    "    return loss"
   ]
  },
  {
   "cell_type": "code",
   "execution_count": 47,
   "metadata": {},
   "outputs": [],
   "source": [
    "path = \"C:/Users/47864/Desktop/Data/australian_scale.txt\"\n",
    "X, y = get_data(path)\n",
    "\n",
    "loss_train_history = []\n",
    "loss_valid_history = []"
   ]
  },
  {
   "cell_type": "code",
   "execution_count": 48,
   "metadata": {},
   "outputs": [],
   "source": [
    "X = np.hstack([X.toarray(), np.ones((X.shape[0], 1))])\n",
    "X_train, X_valid, y_train, y_valid = train_test_split(X, \n",
    "                                                      y, \n",
    "                                                      test_size = 0.3,  #hold-out\n",
    "                                                      random_state = 0)\n",
    "y_train = y_train.reshape(-1,1)"
   ]
  },
  {
   "cell_type": "code",
   "execution_count": 49,
   "metadata": {},
   "outputs": [],
   "source": [
    "#initialize parameters\n",
    "learning_rate = 0.005\n",
    "num_round = 400\n",
    "w = np.random.random((1,15)) #random initialization\n",
    "C = 5"
   ]
  },
  {
   "cell_type": "code",
   "execution_count": 50,
   "metadata": {},
   "outputs": [],
   "source": [
    "for item in range(num_round):\n",
    "    loss_train = compute_loss(X_train, y_train, w, C)\n",
    "    loss_train_history.append(loss_train)\n",
    "    loss_valid = compute_loss(X_valid, y_valid, w, C)\n",
    "    loss_valid_history.append(loss_valid)\n",
    "    \n",
    "    cond = 1 - y_train*X_train.dot(w.T)\n",
    "    gw = np.zeros((1, X_train.shape[1])) #gradient of w\n",
    "    for i in range(cond.shape[0]):\n",
    "        if cond[i]>=0:\n",
    "            gw += -y_train[i]*X_train[i].reshape((1,15))\n",
    "        \n",
    "    gw = C*gw/X_train.shape[0] + w\n",
    "    w = w - learning_rate*gw #gradient descent"
   ]
  },
  {
   "cell_type": "code",
   "execution_count": 51,
   "metadata": {},
   "outputs": [
    {
     "name": "stdout",
     "output_type": "stream",
     "text": [
      "w: [[ 0.00594207  0.01776026  0.0394187   0.0795921   0.12730458  0.07669979\n",
      "   0.07092018  0.87742154  0.12281802  0.0465154   0.01508042  0.14583387\n",
      "  -0.01587872  0.00930932  0.12388915]]\n"
     ]
    },
    {
     "data": {
      "image/png": "[encoded data removed]",
      "text/plain": [
       "<matplotlib.figure.Figure at 0x2a9fc43bf60>"
      ]
     },
     "metadata": {},
     "output_type": "display_data"
    }
   ],
   "source": [
    "print(\"w:\", w)\n",
    "plt.plot(loss_train_history,'red',label='Train')\n",
    "plt.plot(loss_valid_history,'black',label='Valid')\n",
    "plt.xlabel('round number')\n",
    "plt.ylabel('Loss value')\n",
    "plt.legend()\n",
    "plt.show()"
   ]
  },
  {
   "cell_type": "code",
   "execution_count": 52,
   "metadata": {},
   "outputs": [
    {
     "name": "stdout",
     "output_type": "stream",
     "text": [
      "accuracy: 0.8509316770186336\n"
     ]
    }
   ],
   "source": [
    "y_ = X_train.dot(w.T) > 0 #prediction\n",
    "count = 0 #correct count num\n",
    "for i in range(X_train.shape[0]):\n",
    "    if y_[i][0] == False and y_train[i]== -1:\n",
    "        count = count + 1\n",
    "    elif y_[i][0] == True and y_train[i]== 1:\n",
    "        count = count + 1\n",
    "\n",
    "acc_train = count / X_train.shape[0] #accuracy of training set\n",
    "print(\"accuracy:\", acc_train)"
   ]
  },
  {
   "cell_type": "code",
   "execution_count": 53,
   "metadata": {},
   "outputs": [
    {
     "name": "stdout",
     "output_type": "stream",
     "text": [
      "accuracy: 0.8647342995169082\n"
     ]
    }
   ],
   "source": [
    "y_ = X_valid.dot(w.T) > 0 #prediction\n",
    "count = 0 #correct count num\n",
    "for i in range(X_valid.shape[0]):\n",
    "    if y_[i][0] == False and y_valid[i]== -1:\n",
    "        count = count + 1\n",
    "    elif y_[i][0] == True and y_valid[i]== 1:\n",
    "        count = count + 1\n",
    "\n",
    "acc_valid = count / y_valid.shape[0] #accuracy of training set\n",
    "print(\"accuracy:\", acc_valid)"
   ]
  }
 ],
 "metadata": {
  "kernelspec": {
   "display_name": "Python 3",
   "language": "python",
   "name": "python3"
  },
  "language_info": {
   "codemirror_mode": {
    "name": "ipython",
    "version": 3
   },
   "file_extension": ".py",
   "mimetype": "text/x-python",
   "name": "python",
   "nbconvert_exporter": "python",
   "pygments_lexer": "ipython3",
   "version": "3.6.3"
  }
 },
 "nbformat": 4,
 "nbformat_minor": 2
}
