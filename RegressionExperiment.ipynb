{
 "cells": [
  {
   "cell_type": "code",
   "execution_count": 24,
   "metadata": {},
   "outputs": [],
   "source": [
    "import sklearn\n",
    "import numpy as np\n",
    "import matplotlib.pyplot as plt\n",
    "from sklearn.datasets import load_svmlight_file\n",
    "from sklearn.model_selection import train_test_split\n",
    "\n",
    "#load data\n",
    "def get_data(path):\n",
    "    data = load_svmlight_file(path)\n",
    "    return data[0], data[1]\n",
    "\n",
    "#loss function\n",
    "def compute_loss(X, y, w, lamda):\n",
    "    loss = lamda/2*(np.linalg.norm(w,2)**2)+np.mean((y-X.dot(w.T))**2)\n",
    "    return loss\n",
    "\n",
    "#gradient value\n",
    "def gradient(X, y, w, lamda):\n",
    "    gw = -2*np.mean(X*(y-X.dot(w.T)),axis=0,keepdims = True)+lamda*w\n",
    "    return gw"
   ]
  },
  {
   "cell_type": "code",
   "execution_count": 25,
   "metadata": {},
   "outputs": [],
   "source": [
    "path = \"C:/Users/47864/Desktop/Data/housing_scale.txt\"\n",
    "X, y = get_data(path)\n",
    "\n",
    "loss_train_history = []\n",
    "loss_valid_history = []"
   ]
  },
  {
   "cell_type": "code",
   "execution_count": 26,
   "metadata": {},
   "outputs": [],
   "source": [
    "X = np.hstack([X.toarray(), np.ones((X.shape[0], 1))])\n",
    "X_train, X_valid, y_train, y_valid = train_test_split(X, \n",
    "                                                      y, \n",
    "                                                      test_size = 0.3, #hoold-out\n",
    "                                                      random_state = 0)\n",
    "y_train = y_train.reshape(-1,1)"
   ]
  },
  {
   "cell_type": "code",
   "execution_count": 27,
   "metadata": {},
   "outputs": [],
   "source": [
    "#initialize parameters\n",
    "learning_rate = 0.001\n",
    "num_round = 500\n",
    "w = np.random.random((1,14)) #random initialization\n",
    "lamda = 1"
   ]
  },
  {
   "cell_type": "code",
   "execution_count": 28,
   "metadata": {},
   "outputs": [],
   "source": [
    "for item in range(num_round):\n",
    "    loss_train = compute_loss(X_train, y_train, w, lamda)\n",
    "    loss_train_history.append(loss_train)\n",
    "    loss_valid = compute_loss(X_valid, y_valid, w, lamda)\n",
    "    loss_valid_history.append(loss_valid)\n",
    "    #gradient descent\n",
    "    w = w - learning_rate*gradient(X_train, y_train, w, lamda)\n",
    "    if item == 200: #maybe the best\n",
    "        best_w = w"
   ]
  },
  {
   "cell_type": "code",
   "execution_count": 29,
   "metadata": {},
   "outputs": [
    {
     "name": "stdout",
     "output_type": "stream",
     "text": [
      "Best w: [[-3.18922665 -2.19946668 -0.90552238 -2.31820422 -1.33181976  1.32352814\n",
      "   1.43697608 -1.63212561 -1.51424543 -0.77851404  0.43708053  3.87844836\n",
      "  -1.87579209  4.58181091]]\n",
      "Last w: [[-3.96943162 -2.1451874  -1.56157533 -2.53886242 -1.79547814  1.75455745\n",
      "   1.03378142 -1.90895296 -1.62139888 -1.19217313 -0.19365673  4.19011121\n",
      "  -2.90885475  5.04130406]]\n"
     ]
    },
    {
     "data": {
      "image/png": "[encoded data removed]",
      "text/plain": [
       "<matplotlib.figure.Figure at 0x221c9ab0d68>"
      ]
     },
     "metadata": {},
     "output_type": "display_data"
    }
   ],
   "source": [
    "print(\"Best w:\", best_w)\n",
    "print(\"Last w:\", w)\n",
    "plt.plot(loss_train_history,'red',label='Train')\n",
    "plt.plot(loss_valid_history,'black',label='Valid')\n",
    "plt.xlabel('round number')\n",
    "plt.ylabel('Loss value')\n",
    "plt.legend()\n",
    "plt.show()"
   ]
  },
  {
   "cell_type": "code",
   "execution_count": null,
   "metadata": {},
   "outputs": [],
   "source": []
  }
 ],
 "metadata": {
  "kernelspec": {
   "display_name": "Python 3",
   "language": "python",
   "name": "python3"
  },
  "language_info": {
   "codemirror_mode": {
    "name": "ipython",
    "version": 3
   },
   "file_extension": ".py",
   "mimetype": "text/x-python",
   "name": "python",
   "nbconvert_exporter": "python",
   "pygments_lexer": "ipython3",
   "version": "3.6.3"
  }
 },
 "nbformat": 4,
 "nbformat_minor": 2
}
